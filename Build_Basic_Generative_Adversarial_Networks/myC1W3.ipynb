{
 "cells": [
  {
   "cell_type": "code",
   "execution_count": 1,
   "id": "89c7a85d-9295-4236-8058-07af9fdd9219",
   "metadata": {},
   "outputs": [],
   "source": [
    "import warnings\n",
    "warnings.filterwarnings(\"ignore\", category=DeprecationWarning)\n",
    "\n",
    "import os\n",
    "import torch\n",
    "from pytorch_lightning import Trainer\n",
    "from pytorch_lightning.callbacks.progress import TQDMProgressBar\n",
    "from pytorch_lightning.loggers import TensorBoardLogger\n",
    "\n",
    "import gans\n",
    "from gans import WGAN_GP, MNISTDataModule"
   ]
  },
  {
   "cell_type": "code",
   "execution_count": null,
   "id": "2f9c4b35-4cec-428e-8e58-a3fdd0fbe74f",
   "metadata": {},
   "outputs": [
    {
     "name": "stderr",
     "output_type": "stream",
     "text": [
      "/da/onc/bfx/research/shengca1/tools/anaconda3/envs/pytorch/lib/python3.8/site-packages/pytorch_lightning/core/datamodule.py:149: LightningDeprecationWarning: DataModule property `dims` was deprecated in v1.5 and will be removed in v1.7.\n",
      "  rank_zero_deprecation(\"DataModule property `dims` was deprecated in v1.5 and will be removed in v1.7.\")\n",
      "GPU available: True, used: True\n",
      "TPU available: False, using: 0 TPU cores\n",
      "IPU available: False, using: 0 IPUs\n",
      "HPU available: False, using: 0 HPUs\n",
      "LOCAL_RANK: 0 - CUDA_VISIBLE_DEVICES: [0]\n",
      "\n",
      "  | Name      | Type      | Params\n",
      "----------------------------------------\n",
      "0 | generator | generator | 623 K \n",
      "1 | critic    | critic    | 134 K \n",
      "----------------------------------------\n",
      "758 K     Trainable params\n",
      "0         Non-trainable params\n",
      "758 K     Total params\n",
      "3.033     Total estimated model params size (MB)\n"
     ]
    },
    {
     "name": "stdout",
     "output_type": "stream",
     "text": [
      "Epoch 3:  74%|██████████████████████████         | 320/430 [04:10<01:26,  1.28it/s, loss=-1.02, v_num=2, loss/g_loss=0.0127, loss/d_loss=-2.12]"
     ]
    }
   ],
   "source": [
    "# define the logger object\n",
    "logger = TensorBoardLogger(\"gans_logs\", name = \"WGAN_GP\")\n",
    "\n",
    "dm = MNISTDataModule(batch_size=128)\n",
    "\n",
    "model = WGAN_GP()\n",
    "trainer = Trainer(\n",
    "    accelerator=\"auto\",\n",
    "    devices=1 if torch.cuda.is_available() else None,  # limiting got iPython runs\n",
    "    max_epochs=200,\n",
    "    callbacks=[TQDMProgressBar(refresh_rate=20)],\n",
    "    logger=logger,\n",
    "    check_val_every_n_epoch=5\n",
    ")\n",
    "trainer.fit(model, dm)"
   ]
  },
  {
   "cell_type": "code",
   "execution_count": null,
   "id": "2fd04f17-42f8-4973-ac31-abd050749071",
   "metadata": {},
   "outputs": [],
   "source": [
    "from torchvision.utils import make_grid\n",
    "import matplotlib.pyplot as plt\n",
    "\n",
    "def show_tensor_images(image_tensor, num_images=25, size=(1, 28, 28)):\n",
    "    '''\n",
    "    Function for visualizing images: Given a tensor of images, number of images, and\n",
    "    size per image, plots and prints the images in a uniform grid.\n",
    "    '''\n",
    "    image_grid = make_grid(fake[:num_images], nrow=5)\n",
    "    plt.imshow(image_grid.permute(1, 2, 0).squeeze())\n",
    "    plt.show()"
   ]
  },
  {
   "cell_type": "code",
   "execution_count": null,
   "id": "cfaea032-de15-4cc7-9e9d-85eef092b39e",
   "metadata": {},
   "outputs": [],
   "source": [
    "fake = model.on_validation_epoch_end()"
   ]
  },
  {
   "cell_type": "code",
   "execution_count": null,
   "id": "0ad5249f-cb06-4dcb-ba31-f5f879a40863",
   "metadata": {},
   "outputs": [],
   "source": [
    "show_tensor_images(fake, num_images=25, size=(1, 28, 28))"
   ]
  },
  {
   "cell_type": "code",
   "execution_count": 6,
   "id": "d38822d2-0f82-47de-a88c-359610c26d39",
   "metadata": {},
   "outputs": [
    {
     "data": {
      "text/html": [
       "\n",
       "      <iframe id=\"tensorboard-frame-64a3b938152a0828\" width=\"100%\" height=\"800\" frameborder=\"0\">\n",
       "      </iframe>\n",
       "      <script>\n",
       "        (function() {\n",
       "          const frame = document.getElementById(\"tensorboard-frame-64a3b938152a0828\");\n",
       "          const url = new URL(\"/\", window.location);\n",
       "          url.port = 8889;\n",
       "          frame.src = url;\n",
       "        })();\n",
       "      </script>\n",
       "  "
      ],
      "text/plain": [
       "<IPython.core.display.HTML object>"
      ]
     },
     "metadata": {},
     "output_type": "display_data"
    }
   ],
   "source": [
    "# Start tensorboard.\n",
    "os.environ['TENSORBOARD_BINARY'] = '/.../anaconda3/envs/pytorch/bin/tensorboard'\n",
    "%load_ext tensorboard\n",
    "%tensorboard --logdir gans_logs/ --port 8889 --bind_all"
   ]
  }
 ],
 "metadata": {
  "kernelspec": {
   "display_name": "pytorch",
   "language": "python",
   "name": "pytorch"
  },
  "language_info": {
   "codemirror_mode": {
    "name": "ipython",
    "version": 3
   },
   "file_extension": ".py",
   "mimetype": "text/x-python",
   "name": "python",
   "nbconvert_exporter": "python",
   "pygments_lexer": "ipython3",
   "version": "3.8.6"
  }
 },
 "nbformat": 4,
 "nbformat_minor": 5
}
