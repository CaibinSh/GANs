{
 "cells": [
  {
   "cell_type": "code",
   "execution_count": 1,
   "id": "89c7a85d-9295-4236-8058-07af9fdd9219",
   "metadata": {},
   "outputs": [],
   "source": [
    "import warnings\n",
    "warnings.filterwarnings(\"ignore\", category=DeprecationWarning)\n",
    "\n",
    "import torch\n",
    "from pytorch_lightning import Trainer\n",
    "from pytorch_lightning.callbacks.progress import TQDMProgressBar\n",
    "from pytorch_lightning.loggers import TensorBoardLogger\n",
    "\n",
    "import gans\n",
    "from gans import MNISTDataModule, GANs"
   ]
  },
  {
   "cell_type": "code",
   "execution_count": null,
   "id": "2f9c4b35-4cec-428e-8e58-a3fdd0fbe74f",
   "metadata": {},
   "outputs": [],
   "source": [
    "# define the logger object\n",
    "logger = TensorBoardLogger(\"gans_logs\", name = \"my_GANs\")\n",
    "\n",
    "dm = MNISTDataModule(batch_size=128)\n",
    "model = GANs(*dm.size())\n",
    "trainer = Trainer(\n",
    "    accelerator=\"auto\",\n",
    "    devices=1 if torch.cuda.is_available() else None,  # limiting got iPython runs\n",
    "    max_epochs=200,\n",
    "    callbacks=[TQDMProgressBar(refresh_rate=20)],\n",
    "    logger=logger,\n",
    "    check_val_every_n_epoch=10\n",
    ")\n",
    "trainer.fit(model, dm)"
   ]
  },
  {
   "cell_type": "code",
   "execution_count": 8,
   "id": "d38822d2-0f82-47de-a88c-359610c26d39",
   "metadata": {},
   "outputs": [
    {
     "name": "stdout",
     "output_type": "stream",
     "text": [
      "The tensorboard extension is already loaded. To reload it, use:\n",
      "  %reload_ext tensorboard\n"
     ]
    },
    {
     "data": {
      "text/plain": [
       "Reusing TensorBoard on port 8889 (pid 71571), started 0:03:21 ago. (Use '!kill 71571' to kill it.)"
      ]
     },
     "metadata": {},
     "output_type": "display_data"
    },
    {
     "data": {
      "text/html": [
       "\n",
       "      <iframe id=\"tensorboard-frame-e57a4137a850310d\" width=\"100%\" height=\"800\" frameborder=\"0\">\n",
       "      </iframe>\n",
       "      <script>\n",
       "        (function() {\n",
       "          const frame = document.getElementById(\"tensorboard-frame-e57a4137a850310d\");\n",
       "          const url = new URL(\"/\", window.location);\n",
       "          url.port = 8889;\n",
       "          frame.src = url;\n",
       "        })();\n",
       "      </script>\n",
       "  "
      ],
      "text/plain": [
       "<IPython.core.display.HTML object>"
      ]
     },
     "metadata": {},
     "output_type": "display_data"
    }
   ],
   "source": [
    "# Start tensorboard.\n",
    "\n",
    "%load_ext tensorboard\n",
    "%tensorboard --logdir gans_logs/ --port 8889 --bind_all"
   ]
  },
  {
   "cell_type": "code",
   "execution_count": 9,
   "id": "d118973b-fe66-467b-a8f8-179ff09bf22b",
   "metadata": {},
   "outputs": [
    {
     "name": "stdout",
     "output_type": "stream",
     "text": [
      "The tensorboard extension is already loaded. To reload it, use:\n",
      "  %reload_ext tensorboard\n"
     ]
    },
    {
     "data": {
      "text/plain": [
       "Reusing TensorBoard on port 8889 (pid 71571), started 0:03:30 ago. (Use '!kill 71571' to kill it.)"
      ]
     },
     "metadata": {},
     "output_type": "display_data"
    },
    {
     "data": {
      "text/html": [
       "\n",
       "      <iframe id=\"tensorboard-frame-5697f1d5d64745ea\" width=\"100%\" height=\"800\" frameborder=\"0\">\n",
       "      </iframe>\n",
       "      <script>\n",
       "        (function() {\n",
       "          const frame = document.getElementById(\"tensorboard-frame-5697f1d5d64745ea\");\n",
       "          const url = new URL(\"/\", window.location);\n",
       "          url.port = 8889;\n",
       "          frame.src = url;\n",
       "        })();\n",
       "      </script>\n",
       "  "
      ],
      "text/plain": [
       "<IPython.core.display.HTML object>"
      ]
     },
     "metadata": {},
     "output_type": "display_data"
    }
   ],
   "source": [
    "# Start tensorboard.\n",
    "\n",
    "%load_ext tensorboard\n",
    "%tensorboard --logdir gans_logs/ --port 8889 --bind_all"
   ]
  },
  {
   "cell_type": "code",
   "execution_count": null,
   "id": "fe5328ce-e509-4243-a509-f1a9a3904759",
   "metadata": {},
   "outputs": [],
   "source": []
  }
 ],
 "metadata": {
  "kernelspec": {
   "display_name": "pytorch",
   "language": "python",
   "name": "pytorch"
  },
  "language_info": {
   "codemirror_mode": {
    "name": "ipython",
    "version": 3
   },
   "file_extension": ".py",
   "mimetype": "text/x-python",
   "name": "python",
   "nbconvert_exporter": "python",
   "pygments_lexer": "ipython3",
   "version": "3.8.6"
  }
 },
 "nbformat": 4,
 "nbformat_minor": 5
}
